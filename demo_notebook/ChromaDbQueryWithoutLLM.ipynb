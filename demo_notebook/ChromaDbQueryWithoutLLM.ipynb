{
 "cells": [
  {
   "cell_type": "markdown",
   "id": "db778c17",
   "metadata": {},
   "source": [
    "This Jupyter notebook contains normal ChromaDB Queries without LLM"
   ]
  },
  {
   "cell_type": "code",
   "execution_count": 2,
   "id": "364d4d12",
   "metadata": {},
   "outputs": [],
   "source": [
    "import chromadb\n",
    "from sentence_transformers import SentenceTransformer\n",
    "\n",
    "# === CONFIGURATION ===\n",
    "CHROMA_DB_DIR = '../chroma_db'\n",
    "COLLECTION_NAME = 'government_schemes_chunks'\n",
    "TOP_K = 15\n",
    "\n",
    "# Fields Setup\n",
    "CORE_FIELDS = {\"Description\"}\n",
    "LONG_FIELDS = {\"Application Process\", \"Eligibility Criteria\", \"Documents Required\", \"Benefits\"}\n",
    "\n",
    "# === Initialize Clients (Call Once) ===\n",
    "client = chromadb.PersistentClient(path=CHROMA_DB_DIR)\n",
    "collection = client.get_collection(COLLECTION_NAME)\n",
    "embed_model = SentenceTransformer('all-MiniLM-L6-v2')\n",
    "\n",
    "# === FUNCTION: Improved Action Intent Detection ===\n",
    "def detect_relevant_field(query):\n",
    "    query = query.lower()\n",
    "    if any(word in query for word in [\"apply\", \"application\", \"register\", \"procedure\", \"how to avail\"]):\n",
    "        return \"Application Process\"\n",
    "    elif \"benefit\" in query or \"advantages\" in query:\n",
    "        return \"Benefits\"\n",
    "    elif \"eligibility\" in query or \"eligible\" in query or \"who can apply\" in query:\n",
    "        return \"Eligibility Criteria\"\n",
    "    elif \"document\" in query or \"paperwork\" in query:\n",
    "        return \"Documents Required\"\n",
    "    else:\n",
    "        return None  # No forced field if intent isn't clear\n",
    "\n",
    "# === FUNCTION: Retrieve Answer Context ===\n",
    "def retrieve_context(user_query):\n",
    "    relevant_field = detect_relevant_field(user_query)\n",
    "    query_embedding = embed_model.encode([user_query])\n",
    "\n",
    "    results = collection.query(\n",
    "        query_embeddings=query_embedding,\n",
    "        n_results=TOP_K\n",
    "    )\n",
    "\n",
    "    docs = results['documents'][0]\n",
    "    metas = results['metadatas'][0]\n",
    "\n",
    "    # Identify Top-2 unique schemes\n",
    "    scheme_order = []\n",
    "    for meta in metas:\n",
    "        pid = meta['parent_doc_id']\n",
    "        if pid not in scheme_order:\n",
    "            scheme_order.append(pid)\n",
    "        if len(scheme_order) == 2:\n",
    "            break\n",
    "\n",
    "    final_context = []\n",
    "\n",
    "    for idx, pid in enumerate(scheme_order):\n",
    "        scheme_data = collection.get(where={\"parent_doc_id\": pid})\n",
    "        scheme_name = \"\"\n",
    "        section = []\n",
    "\n",
    "        for doc, meta in zip(scheme_data['documents'], scheme_data['metadatas']):\n",
    "            field = meta['field']\n",
    "            if field == \"Scheme Name\" and not scheme_name:\n",
    "                scheme_name = doc.split(\":\",1)[1].strip()\n",
    "                section.append(f\"Scheme Name: {scheme_name}\")\n",
    "            if field in CORE_FIELDS:\n",
    "                section.append(f\"{field}: {doc.split(':',1)[1].strip()}\")\n",
    "\n",
    "        # === Action Intent Handling for Top-1 Scheme ===\n",
    "        if idx == 0 and relevant_field:\n",
    "            for doc, meta in zip(scheme_data['documents'], scheme_data['metadatas']):\n",
    "                if meta['field'] == relevant_field:\n",
    "                    section.append(f\"{relevant_field}: {doc.split(':',1)[1].strip()}\")\n",
    "\n",
    "        final_context.append(\"\\n\".join(section))\n",
    "\n",
    "    return \"\\n\\n---\\n\\n\".join(final_context)\n"
   ]
  },
  {
   "cell_type": "markdown",
   "id": "8c016a59",
   "metadata": {},
   "source": []
  },
  {
   "cell_type": "code",
   "execution_count": 3,
   "id": "b401c7be",
   "metadata": {},
   "outputs": [
    {
     "data": {
      "text/plain": [
       "'Scheme Name: Bihar Startup Policy\\nDescription: This is a policy for entrepreneurs to boost entrepreneurship in the state of Bihar and it was launched in July 2022 .\\nBenefits: 1. Bihar’s startup policy was launched in Bihar in the month August 2022 to boost entrepreneurship in the state.\\n1. Young Bihar entrepreneurs would get a loan of 10 lacks without interest for ten years. This sum will be allocated as seed money under the Bihar Startup Policy.\\n1. Enhanced incentives of 5 per cent for female entrepreneurs, in addition to a grant of 3 lakh rupees for businesses that participate in “rigorous training for product improvement and finance.”\\n1. In addition to shared office space, there are financial incentives and other amenities available.\\n1. Created a startup platform for young business people in the state of Bihar who is interested in taking advantage of the policies and programs available to them.\\n\\n---\\n\\nScheme Name: Startup India Seed Fund Scheme- For Startups\\nDescription: The scheme “Startup India Seed Fund Scheme (SISFS)” was launched by the DPIIT on 19th April 2021 with an outlay of INR 945 Crore to provide financial assistance to startups for Proof of Concept, prototype development, product trials, market-entry, and commercialization.'"
      ]
     },
     "execution_count": 3,
     "metadata": {},
     "output_type": "execute_result"
    }
   ],
   "source": [
    "retrieve_context(\"What are the benefits of startup schemes in India?\")\n"
   ]
  },
  {
   "cell_type": "code",
   "execution_count": 4,
   "id": "db54ff31",
   "metadata": {},
   "outputs": [
    {
     "data": {
      "text/plain": [
       "'Scheme Name: Tripura Industrial Investment Promotion Incentive\\nDescription: The TIPII scheme aims to attract and promote industrial investments in Tripura by providing various incentives and support to eligible businesses, fostering economic growth and job creation in the state.\\nApplication Process: Application ProcessOfflineStep 1: Obtain the application form from the Department of Industries and Commerce or download it from the official website.Step 2: Fill in the form with accurate details regarding the proposed project, investment plans, employment generation, and other required information.Step 3: Attach all necessary documents, including project reports, financial statements, and supporting certificates.Step 4: Submit the completed application form along with the supporting documents to the designated authority within the specified timeframe.Step 5: The application will undergo scrutiny and evaluation by the concerned department, and applicants may be called for a discussion or presentation if required.Step 6: Upon approval, the applicant will receive an offer letter specifying the incentives and conditions of the scheme.\\n\\n---\\n\\nScheme Name: Pension Benefit (TBOCWW)\\nDescription: The \"Pension Benefit\" scheme was launched by the Tripura Building and Other Construction Workers Welfare Board, Labour Department Tripura. The scheme aims to provide financial assistance to the registered beneficiary who has retired due to old age attaining 60 years.'"
      ]
     },
     "execution_count": 4,
     "metadata": {},
     "output_type": "execute_result"
    }
   ],
   "source": [
    "retrieve_context(\"How can I apply for the Tripura Industrial Investment Promotion Incentive scheme\")"
   ]
  },
  {
   "cell_type": "code",
   "execution_count": 5,
   "id": "12b46712",
   "metadata": {},
   "outputs": [
    {
     "data": {
      "text/plain": [
       "'Scheme Name: Fee Waiver Scheme For SC/ST Students Pursuing Higher Education\\nDescription: \"Fee Waiver Scheme for SC/ST Students Pursuing Higher Education\" provides free access to every SC/ST student, to the institutions of higher learning so that that no eligible SC/ST students are deprived of higher education for want of resources.\\nEligibility Criteria: 1. The applicant should have been born in Goa or resident of Goa for at least last fifteen years.\\n1. The applicant should have passed his/her qualifying examination from any of the institutions located in Goa.\\n1. The applicant should belong to the SC/ST Community of Goa.\\n1. The applicant should be enrolled for the First Year of their Degree/PG Courses.\\n\\n---\\n\\nScheme Name: Pre-SSC Scholarship for Scheduled Caste Students (Parixitlal Majmudar Scholarship)\\nDescription: Under this scheme, scholarships are provided to Scheduled Caste students who are studying in Class 1 to 10 in Government/Grant-in-Aid Schools/Private Schools.'"
      ]
     },
     "execution_count": 5,
     "metadata": {},
     "output_type": "execute_result"
    }
   ],
   "source": [
    "retrieve_context(\"Who is eligible under the Fee Waiver Scheme for SC/ST Students in Gujarat?\")"
   ]
  },
  {
   "cell_type": "code",
   "execution_count": 6,
   "id": "7757283e",
   "metadata": {},
   "outputs": [
    {
     "data": {
      "text/plain": [
       "'Scheme Name: Widow Pension-West Bengal\\nDescription: The West Bengal government\\'s Women and Child Development and Social Welfare Department launched the \"Widow Pension\" scheme in 2010. This program aims to support widows facing economic hardship within the state.\\nApplication Process: **Application Form(**[**Form-P)**](https://wbswpension.gov.in/readwrite/miscellaneous/form-P.pdf) **for Pension may be obtained free of cost from following offices namely:**\\n1. Office of the Block Development Officer or the Executive Officer of the concerned Panchayat Samity in case of the applicant resides in the rural areas under the said Panchayat Samity.\\n1. Office of the Sub-Divisional Officer in case of the applicant resides in Municipal / Notified areas outside the areas of Kolkata Municipal Corporation.\\n1. Office of the Controller of Vagrancy, West Bengal situated at Purta Bhawan, Bidhan Nagar, Kolkata-700091, in case of the applicant resides within the areas under Kolkata Municipal Corporation.\\n**Required information for application form**\\n1. Person Details.\\n1. Contact Details.\\n1. Type of Disability and disability percentage.\\n1. Bank Account Details.\\n1. Required documents\\n  - Copy of Aadhaar self-attested.\\n  - Copy of Ration Card.\\n  - Copy of Voter Id.\\n  - Copy of Disability Certificate.\\n  - Copy of Income Certificate.\\n  - Copy of Husband’s Death Certificate.\\n  - Copy of Bank Pass Book.\\n  - Nomination Form (In case of death).\\n  - Passport Size photograph.\\n**Application Form for Pension shall be addressed to:-**\\n1. The District Magistrate of the concerned District and shall be submitted to the Block Development Officer or the Executive Officer of the Panchayat Samity in case of the applicant residing in the rural areas under a Panchayat Samity.\\n1. The District magistrate of the concerned District and Shall be submitted to the Sub-Divisional Officer in case of the applicant residing in Municipal / Notified areas outside the areas of Kolkata Municipal Corporation.\\n1. The Controller of Vagrancy, West Bengal and shall be submitted to the Controller Vagrancy West Bengal in case of the applicant residing within the areas under Kolkata Municipal Corporation.\\n\\n---\\n\\nScheme Name: Madhu Babu Pension Yojana\\nDescription: \"Madhu Babu Pension Yojana\" under the Social Security and Empowerment of Persons with Disabilities Department, Government Of Odisha is a social welfare scheme designed to provide financial assistance to elderly citizens, widows, and disabled persons who are economically weaker.'"
      ]
     },
     "execution_count": 6,
     "metadata": {},
     "output_type": "execute_result"
    }
   ],
   "source": [
    "retrieve_context(\" What is the step-by-step process to apply for financial aid under the Widow Pension Scheme of West Bengal?\")"
   ]
  },
  {
   "cell_type": "code",
   "execution_count": null,
   "id": "2ed5bf83",
   "metadata": {},
   "outputs": [],
   "source": []
  }
 ],
 "metadata": {
  "kernelspec": {
   "display_name": "Python 3",
   "language": "python",
   "name": "python3"
  },
  "language_info": {
   "codemirror_mode": {
    "name": "ipython",
    "version": 3
   },
   "file_extension": ".py",
   "mimetype": "text/x-python",
   "name": "python",
   "nbconvert_exporter": "python",
   "pygments_lexer": "ipython3",
   "version": "3.13.2"
  }
 },
 "nbformat": 4,
 "nbformat_minor": 5
}
